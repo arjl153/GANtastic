{
 "cells": [
  {
   "cell_type": "code",
   "execution_count": 24,
   "id": "0ca67a36-8d5b-49d8-a569-bd5a8a40bf0f",
   "metadata": {},
   "outputs": [],
   "source": [
    "import numpy as np\n",
    "from pretty_midi import PrettyMIDI"
   ]
  },
  {
   "cell_type": "code",
   "execution_count": null,
   "id": "66e05b13-8d9c-4b93-9c72-4c8816a9943b",
   "metadata": {},
   "outputs": [],
   "source": []
  },
  {
   "cell_type": "code",
   "execution_count": 121,
   "id": "7f41f446-7b4d-41dc-af9d-89ae09b5161c",
   "metadata": {},
   "outputs": [
    {
     "name": "stdout",
     "output_type": "stream",
     "text": [
      "Collecting pydub\n",
      "  Downloading pydub-0.25.1-py2.py3-none-any.whl (32 kB)\n",
      "Collecting fluidsynth\n",
      "  Downloading fluidsynth-0.2.tar.gz (3.7 kB)\n",
      "  Preparing metadata (setup.py) ... \u001b[?25ldone\n",
      "\u001b[?25hBuilding wheels for collected packages: fluidsynth\n",
      "  Building wheel for fluidsynth (setup.py) ... \u001b[?25ldone\n",
      "\u001b[?25h  Created wheel for fluidsynth: filename=fluidsynth-0.2-py3-none-any.whl size=4488 sha256=64007f43f2707c85ec5c32121cb68257f7e7c64be8b7e262b6e0cfeab7bf808d\n",
      "  Stored in directory: /Users/adityaramachandra/Library/Caches/pip/wheels/47/19/60/453a1164e77de2979d36d2d670fbafc16d18757d66e20c7d35\n",
      "Successfully built fluidsynth\n",
      "Installing collected packages: pydub, fluidsynth\n",
      "Successfully installed fluidsynth-0.2 pydub-0.25.1\n"
     ]
    }
   ],
   "source": [
    "!pip install pydub fluidsynth"
   ]
  },
  {
   "cell_type": "code",
   "execution_count": 124,
   "id": "a3256fd1-e13b-48a1-9abc-3f9f7fb2b655",
   "metadata": {},
   "outputs": [
    {
     "ename": "AttributeError",
     "evalue": "module 'fluidsynth' has no attribute 'Synth'",
     "output_type": "error",
     "traceback": [
      "\u001b[0;31m---------------------------------------------------------------------------\u001b[0m",
      "\u001b[0;31mAttributeError\u001b[0m                            Traceback (most recent call last)",
      "Cell \u001b[0;32mIn[124], line 35\u001b[0m\n\u001b[1;32m     32\u001b[0m soundfont_file_path \u001b[38;5;241m=\u001b[39m \u001b[38;5;124m'\u001b[39m\u001b[38;5;124mabc.sf2\u001b[39m\u001b[38;5;124m'\u001b[39m\n\u001b[1;32m     34\u001b[0m \u001b[38;5;66;03m# Convert MIDI to WAV\u001b[39;00m\n\u001b[0;32m---> 35\u001b[0m output_wav_path \u001b[38;5;241m=\u001b[39m \u001b[43mmidi_to_wav\u001b[49m\u001b[43m(\u001b[49m\u001b[43mmidi_file_path\u001b[49m\u001b[43m,\u001b[49m\u001b[43m \u001b[49m\u001b[43msoundfont_file_path\u001b[49m\u001b[43m)\u001b[49m\n\u001b[1;32m     37\u001b[0m \u001b[38;5;66;03m# Play the WAV file in the notebook\u001b[39;00m\n\u001b[1;32m     38\u001b[0m ipd\u001b[38;5;241m.\u001b[39mAudio(output_wav_path)\n",
      "Cell \u001b[0;32mIn[124], line 7\u001b[0m, in \u001b[0;36mmidi_to_wav\u001b[0;34m(midi_file, soundfont_file, output_wav)\u001b[0m\n\u001b[1;32m      5\u001b[0m \u001b[38;5;28;01mdef\u001b[39;00m \u001b[38;5;21mmidi_to_wav\u001b[39m(midi_file, soundfont_file, output_wav\u001b[38;5;241m=\u001b[39m\u001b[38;5;124m'\u001b[39m\u001b[38;5;124moutput.wav\u001b[39m\u001b[38;5;124m'\u001b[39m):\n\u001b[1;32m      6\u001b[0m     \u001b[38;5;66;03m# Create FluidSynth synthesizer\u001b[39;00m\n\u001b[0;32m----> 7\u001b[0m     fs \u001b[38;5;241m=\u001b[39m \u001b[43mfluidsynth\u001b[49m\u001b[38;5;241;43m.\u001b[39;49m\u001b[43mSynth\u001b[49m()\n\u001b[1;32m      8\u001b[0m     fs\u001b[38;5;241m.\u001b[39mstart(driver\u001b[38;5;241m=\u001b[39m\u001b[38;5;124m\"\u001b[39m\u001b[38;5;124mcoreaudio\u001b[39m\u001b[38;5;124m\"\u001b[39m)  \u001b[38;5;66;03m# Use \"coreaudio\" for macOS, \"alsa\" for Linux, \"dsound\" for Windows\u001b[39;00m\n\u001b[1;32m     10\u001b[0m     \u001b[38;5;66;03m# Load the SoundFont file\u001b[39;00m\n",
      "\u001b[0;31mAttributeError\u001b[0m: module 'fluidsynth' has no attribute 'Synth'"
     ]
    }
   ],
   "source": [
    "import fluidsynth\n",
    "from pydub import AudioSegment\n",
    "import IPython.display as ipd\n",
    "\n",
    "def midi_to_wav(midi_file, soundfont_file, output_wav='output.wav'):\n",
    "    # Create FluidSynth synthesizer\n",
    "    fs = fluidsynth.Synth()\n",
    "    fs.start(driver=\"coreaudio\")  # Use \"coreaudio\" for macOS, \"alsa\" for Linux, \"dsound\" for Windows\n",
    "\n",
    "    # Load the SoundFont file\n",
    "    sfid = fs.sfload(soundfont_file)\n",
    "    fs.program_select(0, sfid, 0, 0)\n",
    "\n",
    "    # Load the MIDI file\n",
    "    fs.midi_file_select(midi_file)\n",
    "\n",
    "    # Render the MIDI file to WAV\n",
    "    wav_data = fs.get_samples()\n",
    "\n",
    "    # Save WAV data to file\n",
    "    wav_data = bytes(wav_data)\n",
    "    with open(output_wav, 'wb') as wav_file:\n",
    "        wav_file.write(wav_data)\n",
    "\n",
    "    # Stop FluidSynth\n",
    "    fs.delete()\n",
    "\n",
    "    return output_wav\n",
    "\n",
    "# Example MIDI file and SoundFont file paths (replace these with your own files)\n",
    "midi_file_path = 'output_2.mid'\n",
    "soundfont_file_path = 'abc.sf2'\n",
    "\n",
    "# Convert MIDI to WAV\n",
    "output_wav_path = midi_to_wav(midi_file_path, soundfont_file_path)\n",
    "\n",
    "# Play the WAV file in the notebook\n",
    "ipd.Audio(output_wav_path)"
   ]
  },
  {
   "cell_type": "code",
   "execution_count": null,
   "id": "96858775-c518-4122-81c5-265cd7a2d024",
   "metadata": {},
   "outputs": [],
   "source": []
  },
  {
   "cell_type": "code",
   "execution_count": null,
   "id": "2596ee0f-f919-4216-a4c3-69b0e03b28a9",
   "metadata": {},
   "outputs": [],
   "source": []
  },
  {
   "cell_type": "code",
   "execution_count": null,
   "id": "7045e13f-efc8-4632-ae42-7e227a09b24a",
   "metadata": {},
   "outputs": [],
   "source": []
  },
  {
   "cell_type": "code",
   "execution_count": null,
   "id": "4ac998de-a4cb-4bc1-b1a5-e7ce2c089478",
   "metadata": {},
   "outputs": [],
   "source": []
  },
  {
   "cell_type": "code",
   "execution_count": 87,
   "id": "9e8432cd-b149-4835-a116-ae4f39e53c8a",
   "metadata": {},
   "outputs": [],
   "source": [
    "pT = piano_roll_ip.transpose(1, 0, 2)"
   ]
  },
  {
   "cell_type": "code",
   "execution_count": 114,
   "id": "bf16de18-2e29-4987-a9ae-0f4a10672b3b",
   "metadata": {},
   "outputs": [],
   "source": [
    "def set_piano_roll_to_instrument(piano_roll, instrument, velocity=100, tempo=120.0, beat_resolution=16):\n",
    "    # Calculate time per pixel\n",
    "    tpp = 60.0 / tempo / float(beat_resolution)\n",
    "    threshold = 60.0 / tempo / 4\n",
    "    phrase_end_time = 60.0 / tempo * 4 * piano_roll.shape[0]\n",
    "    # Create piano_roll_search that captures note onsets and offsets\n",
    "    piano_roll = piano_roll.reshape((piano_roll.shape[0] * piano_roll.shape[1], piano_roll.shape[2]))\n",
    "    piano_roll_diff = np.concatenate((np.zeros((1, 84), dtype=int), piano_roll, np.zeros((1, 84), dtype=int)))\n",
    "    piano_roll_search = np.diff(piano_roll_diff.astype(int), axis=0)\n",
    "    # Iterate through all possible(128) pitches\n",
    "\n",
    "    for note_num in range(128):\n",
    "        # Search for notes\n",
    "        start_idx = (piano_roll_search[:, note_num] > 0).nonzero()\n",
    "        start_time = list(tpp * (start_idx[0].astype(float)))\n",
    "        # print('start_time:', start_time)\n",
    "        # print(len(start_time))\n",
    "        end_idx = (piano_roll_search[:, note_num] < 0).nonzero()\n",
    "        end_time = list(tpp * (end_idx[0].astype(float)))\n",
    "        # print('end_time:', end_time)\n",
    "        # print(len(end_time))\n",
    "        duration = [pair[1] - pair[0] for pair in zip(start_time, end_time)]\n",
    "        # print('duration each note:', duration)\n",
    "        # print(len(duration))\n",
    "\n",
    "        temp_start_time = [i for i in start_time]\n",
    "        temp_end_time = [i for i in end_time]\n",
    "\n",
    "        for i in range(len(start_time)):\n",
    "            # print(start_time)\n",
    "            if start_time[i] in temp_start_time and i != len(start_time) - 1:\n",
    "                # print('i and start_time:', i, start_time[i])\n",
    "                t = []\n",
    "                current_idx = temp_start_time.index(start_time[i])\n",
    "                for j in range(current_idx + 1, len(temp_start_time)):\n",
    "                    # print(j, temp_start_time[j])\n",
    "                    if temp_start_time[j] < start_time[i] + threshold and temp_end_time[j] <= start_time[i] + threshold:\n",
    "                        # print('popped start time:', temp_start_time[j])\n",
    "                        t.append(j)\n",
    "                        # print('popped temp_start_time:', t)\n",
    "                for _ in t:\n",
    "                    temp_start_time.pop(t[0])\n",
    "                    temp_end_time.pop(t[0])\n",
    "                # print('popped temp_start_time:', temp_start_time)\n",
    "\n",
    "        start_time = temp_start_time\n",
    "        # print('After checking, start_time:', start_time)\n",
    "        # print(len(start_time))\n",
    "        end_time = temp_end_time\n",
    "        # print('After checking, end_time:', end_time)\n",
    "        # print(len(end_time))\n",
    "        duration = [pair[1] - pair[0] for pair in zip(start_time, end_time)]\n",
    "        # print('After checking, duration each note:', duration)\n",
    "        # print(len(duration))\n",
    "\n",
    "        if len(end_time) < len(start_time):\n",
    "            d = len(start_time) - len(end_time)\n",
    "            start_time = start_time[:-d]\n",
    "        # Iterate through all the searched notes\n",
    "        for idx in range(len(start_time)):\n",
    "            if duration[idx] >= threshold:\n",
    "                # Create an Note object with corresponding note number, start time and end time\n",
    "                note = pretty_midi.Note(velocity=velocity, pitch=note_num, start=start_time[idx], end=end_time[idx])\n",
    "                # Add the note to the Instrument object\n",
    "                instrument.notes.append(note)\n",
    "            else:\n",
    "                if start_time[idx] + threshold <= phrase_end_time:\n",
    "                    # Create an Note object with corresponding note number, start time and end time\n",
    "                    note = pretty_midi.Note(velocity=velocity, pitch=note_num, start=start_time[idx],\n",
    "                                            end=start_time[idx] + threshold)\n",
    "                else:\n",
    "                    # Create an Note object with corresponding note number, start time and end time\n",
    "                    note = pretty_midi.Note(velocity=velocity, pitch=note_num, start=start_time[idx],\n",
    "                                            end=phrase_end_time)\n",
    "                # Add the note to the Instrument object\n",
    "                instrument.notes.append(note)\n",
    "    # Sort the notes by their start time\n",
    "    instrument.notes.sort(key=lambda note: note.start)\n",
    "    # print(max([i.end for i in instrument.notes]))\n",
    "    # print('tpp, threshold, phrases_end_time:', tpp, threshold, phrase_end_time)\n",
    "\n",
    "\n",
    "def write_piano_roll_to_midi(piano_roll, filename, program_num=0, is_drum=False, velocity=100,\n",
    "                             tempo=120.0, beat_resolution=16):\n",
    "    # Create a PrettyMIDI object\n",
    "    midi = pretty_midi.PrettyMIDI(initial_tempo=tempo)\n",
    "    # Create an Instrument object\n",
    "    instrument = pretty_midi.Instrument(program=program_num, is_drum=is_drum)\n",
    "    # Set the piano roll to the Instrument object\n",
    "    set_piano_roll_to_instrument(piano_roll, instrument, velocity, tempo, beat_resolution)\n",
    "    # Add the instrument to the PrettyMIDI object\n",
    "    midi.instruments.append(instrument)\n",
    "    # Write out the MIDI data\n",
    "    midi.write(filename)\n",
    "\n",
    "\n",
    "def write_piano_rolls_to_midi(piano_rolls, program_nums=None, is_drum=None, filename='test.mid', velocity=100,\n",
    "                              tempo=120.0, beat_resolution=24):\n",
    "    if len(piano_rolls) != len(program_nums) or len(piano_rolls) != len(is_drum):\n",
    "        print(\"Error: piano_rolls and program_nums have different sizes...\")\n",
    "        return False\n",
    "    if not program_nums:\n",
    "        program_nums = [0, 0, 0]\n",
    "    if not is_drum:\n",
    "        is_drum = [False, False, False]\n",
    "    # Create a PrettyMIDI object\n",
    "    midi = pretty_midi.PrettyMIDI(initial_tempo=tempo)\n",
    "    # Iterate through all the input instruments\n",
    "    for idx in range(len(piano_rolls)):\n",
    "        # Create an Instrument object\n",
    "        instrument = pretty_midi.Instrument(program=program_nums[idx], is_drum=is_drum[idx])\n",
    "        # Set the piano roll to the Instrument object\n",
    "        set_piano_roll_to_instrument(piano_rolls[idx], instrument, velocity, tempo, beat_resolution)\n",
    "        # Add the instrument to the PrettyMIDI object\n",
    "        midi.instruments.append(instrument)\n",
    "    # Write out the MIDI data\n",
    "    midi.write(filename)"
   ]
  },
  {
   "cell_type": "code",
   "execution_count": 116,
   "id": "2e3e68e1-2e64-48ac-86e0-f58d8c912a1f",
   "metadata": {},
   "outputs": [
    {
     "ename": "ValueError",
     "evalue": "all the input array dimensions except for the concatenation axis must match exactly, but along dimension 1, the array at index 0 has size 84 and the array at index 1 has size 1",
     "output_type": "error",
     "traceback": [
      "\u001b[0;31m---------------------------------------------------------------------------\u001b[0m",
      "\u001b[0;31mValueError\u001b[0m                                Traceback (most recent call last)",
      "Cell \u001b[0;32mIn[116], line 1\u001b[0m\n\u001b[0;32m----> 1\u001b[0m \u001b[43mwrite_piano_roll_to_midi\u001b[49m\u001b[43m(\u001b[49m\u001b[43mpiano_roll_ip\u001b[49m\u001b[43m,\u001b[49m\u001b[43m \u001b[49m\u001b[38;5;124;43m\"\u001b[39;49m\u001b[38;5;124;43moutput.mid\u001b[39;49m\u001b[38;5;124;43m\"\u001b[39;49m\u001b[43m)\u001b[49m\n",
      "Cell \u001b[0;32mIn[114], line 90\u001b[0m, in \u001b[0;36mwrite_piano_roll_to_midi\u001b[0;34m(piano_roll, filename, program_num, is_drum, velocity, tempo, beat_resolution)\u001b[0m\n\u001b[1;32m     88\u001b[0m instrument \u001b[38;5;241m=\u001b[39m pretty_midi\u001b[38;5;241m.\u001b[39mInstrument(program\u001b[38;5;241m=\u001b[39mprogram_num, is_drum\u001b[38;5;241m=\u001b[39mis_drum)\n\u001b[1;32m     89\u001b[0m \u001b[38;5;66;03m# Set the piano roll to the Instrument object\u001b[39;00m\n\u001b[0;32m---> 90\u001b[0m \u001b[43mset_piano_roll_to_instrument\u001b[49m\u001b[43m(\u001b[49m\u001b[43mpiano_roll\u001b[49m\u001b[43m,\u001b[49m\u001b[43m \u001b[49m\u001b[43minstrument\u001b[49m\u001b[43m,\u001b[49m\u001b[43m \u001b[49m\u001b[43mvelocity\u001b[49m\u001b[43m,\u001b[49m\u001b[43m \u001b[49m\u001b[43mtempo\u001b[49m\u001b[43m,\u001b[49m\u001b[43m \u001b[49m\u001b[43mbeat_resolution\u001b[49m\u001b[43m)\u001b[49m\n\u001b[1;32m     91\u001b[0m \u001b[38;5;66;03m# Add the instrument to the PrettyMIDI object\u001b[39;00m\n\u001b[1;32m     92\u001b[0m midi\u001b[38;5;241m.\u001b[39minstruments\u001b[38;5;241m.\u001b[39mappend(instrument)\n",
      "Cell \u001b[0;32mIn[114], line 8\u001b[0m, in \u001b[0;36mset_piano_roll_to_instrument\u001b[0;34m(piano_roll, instrument, velocity, tempo, beat_resolution)\u001b[0m\n\u001b[1;32m      6\u001b[0m \u001b[38;5;66;03m# Create piano_roll_search that captures note onsets and offsets\u001b[39;00m\n\u001b[1;32m      7\u001b[0m piano_roll \u001b[38;5;241m=\u001b[39m piano_roll\u001b[38;5;241m.\u001b[39mreshape((piano_roll\u001b[38;5;241m.\u001b[39mshape[\u001b[38;5;241m0\u001b[39m] \u001b[38;5;241m*\u001b[39m piano_roll\u001b[38;5;241m.\u001b[39mshape[\u001b[38;5;241m1\u001b[39m], piano_roll\u001b[38;5;241m.\u001b[39mshape[\u001b[38;5;241m2\u001b[39m]))\n\u001b[0;32m----> 8\u001b[0m piano_roll_diff \u001b[38;5;241m=\u001b[39m \u001b[43mnp\u001b[49m\u001b[38;5;241;43m.\u001b[39;49m\u001b[43mconcatenate\u001b[49m\u001b[43m(\u001b[49m\u001b[43m(\u001b[49m\u001b[43mnp\u001b[49m\u001b[38;5;241;43m.\u001b[39;49m\u001b[43mzeros\u001b[49m\u001b[43m(\u001b[49m\u001b[43m(\u001b[49m\u001b[38;5;241;43m1\u001b[39;49m\u001b[43m,\u001b[49m\u001b[43m \u001b[49m\u001b[38;5;241;43m84\u001b[39;49m\u001b[43m)\u001b[49m\u001b[43m,\u001b[49m\u001b[43m \u001b[49m\u001b[43mdtype\u001b[49m\u001b[38;5;241;43m=\u001b[39;49m\u001b[38;5;28;43mint\u001b[39;49m\u001b[43m)\u001b[49m\u001b[43m,\u001b[49m\u001b[43m \u001b[49m\u001b[43mpiano_roll\u001b[49m\u001b[43m,\u001b[49m\u001b[43m \u001b[49m\u001b[43mnp\u001b[49m\u001b[38;5;241;43m.\u001b[39;49m\u001b[43mzeros\u001b[49m\u001b[43m(\u001b[49m\u001b[43m(\u001b[49m\u001b[38;5;241;43m1\u001b[39;49m\u001b[43m,\u001b[49m\u001b[43m \u001b[49m\u001b[38;5;241;43m84\u001b[39;49m\u001b[43m)\u001b[49m\u001b[43m,\u001b[49m\u001b[43m \u001b[49m\u001b[43mdtype\u001b[49m\u001b[38;5;241;43m=\u001b[39;49m\u001b[38;5;28;43mint\u001b[39;49m\u001b[43m)\u001b[49m\u001b[43m)\u001b[49m\u001b[43m)\u001b[49m\n\u001b[1;32m      9\u001b[0m piano_roll_search \u001b[38;5;241m=\u001b[39m np\u001b[38;5;241m.\u001b[39mdiff(piano_roll_diff\u001b[38;5;241m.\u001b[39mastype(\u001b[38;5;28mint\u001b[39m), axis\u001b[38;5;241m=\u001b[39m\u001b[38;5;241m0\u001b[39m)\n\u001b[1;32m     10\u001b[0m \u001b[38;5;66;03m# Iterate through all possible(128) pitches\u001b[39;00m\n",
      "\u001b[0;31mValueError\u001b[0m: all the input array dimensions except for the concatenation axis must match exactly, but along dimension 1, the array at index 0 has size 84 and the array at index 1 has size 1"
     ]
    }
   ],
   "source": [
    "write_piano_roll_to_midi(piano_roll_ip, \"output.mid\")\n"
   ]
  },
  {
   "cell_type": "code",
   "execution_count": 18,
   "id": "db9e3305-be56-41ff-82db-0362e6fb7d4c",
   "metadata": {},
   "outputs": [
    {
     "data": {
      "image/png": "[encoded data removed]",
      "text/plain": [
       "<Figure size 640x480 with 1 Axes>"
      ]
     },
     "metadata": {},
     "output_type": "display_data"
    }
   ],
   "source": [
    "import matplotlib.pyplot as plt\n",
    "\n",
    "plt.imshow(piano_roll, aspect='auto', cmap='gray', origin='lower')\n",
    "plt.xlabel('Time')\n",
    "plt.ylabel('Pitch')\n",
    "plt.show()"
   ]
  },
  {
   "cell_type": "code",
   "execution_count": 21,
   "id": "1be72645-47e5-4bbe-ba06-62ba259858b2",
   "metadata": {},
   "outputs": [],
   "source": [
    "pT = piano_roll.transpose(1, 0, 2)"
   ]
  },
  {
   "cell_type": "code",
   "execution_count": 22,
   "id": "e9c8ed7c-b035-436a-bfef-940aad8d570e",
   "metadata": {},
   "outputs": [
    {
     "data": {
      "image/png": "[encoded data removed]",
      "text/plain": [
       "<Figure size 640x480 with 1 Axes>"
      ]
     },
     "metadata": {},
     "output_type": "display_data"
    }
   ],
   "source": [
    "plt.imshow(pT, aspect='auto', cmap='gray', origin='lower')\n",
    "plt.xlabel('Time')\n",
    "plt.ylabel('Pitch')\n",
    "plt.show()"
   ]
  },
  {
   "cell_type": "code",
   "execution_count": null,
   "id": "9adf876f-04f8-4821-8760-78f534928a61",
   "metadata": {},
   "outputs": [],
   "source": []
  },
  {
   "cell_type": "code",
   "execution_count": 110,
   "id": "07b66259-a03c-4d9d-8351-5c88c55789fa",
   "metadata": {},
   "outputs": [],
   "source": []
  },
  {
   "cell_type": "code",
   "execution_count": 112,
   "id": "ba0c51a3-9795-4fc9-80d7-05e28d834ef4",
   "metadata": {},
   "outputs": [
    {
     "data": {
      "text/plain": [
       "array([[0, 0, 0, ..., 0, 0, 0],\n",
       "       [0, 0, 0, ..., 0, 0, 0],\n",
       "       [0, 0, 0, ..., 0, 0, 0],\n",
       "       ...,\n",
       "       [0, 0, 0, ..., 0, 0, 0],\n",
       "       [0, 0, 0, ..., 0, 0, 0],\n",
       "       [0, 0, 0, ..., 0, 0, 0]])"
      ]
     },
     "execution_count": 112,
     "metadata": {},
     "output_type": "execute_result"
    }
   ],
   "source": [
    "np.concatenate((np.zeros((1, 84), dtype=int), piano_roll_ip_r, np.zeros((1, 84), dtype=int)))"
   ]
  },
  {
   "cell_type": "code",
   "execution_count": null,
   "id": "ff57e7f0-b7de-4815-a2ab-b0a38df64112",
   "metadata": {},
   "outputs": [],
   "source": []
  },
  {
   "cell_type": "code",
   "execution_count": 146,
   "id": "dc4d39dd-d1dd-43dc-a4f0-326e1bc7d3ba",
   "metadata": {},
   "outputs": [],
   "source": [
    "from midiutil import MIDIFile\n",
    "\n",
    "def piano_roll_to_midi(piano_roll, tempo=120, output_file='output.mid'):\n",
    "    # Get the number of notes and time steps\n",
    "    num_notes, num_steps = len(piano_roll[0]), len(piano_roll)\n",
    "\n",
    "    # Create a MIDIFile object with one track\n",
    "    midi = MIDIFile(1)\n",
    "\n",
    "    # Set the tempo\n",
    "    midi.addTempo(0, 0, tempo)\n",
    "\n",
    "    # Define the instrument (use 0 for piano)\n",
    "    midi.addProgramChange(0, 0, 0, 0)\n",
    "\n",
    "    # Convert piano roll to MIDI events\n",
    "    for time in range(num_steps):\n",
    "        for pitch in range(num_notes):\n",
    "            if piano_roll[time][pitch] != 0:\n",
    "                midi.addNote(0, 0, pitch + 21, time, 1, 100)  # channel=0, duration=1, volume=100\n",
    "\n",
    "    # Write the MIDI file\n",
    "    with open(output_file, 'wb') as midi_file:\n",
    "        midi.writeFile(midi_file)\n",
    "\n",
    "\n",
    "# Convert piano roll to MIDI and save the MIDI file\n",
    "piano_roll_ip = np.load('dataset/CP_C/train/classic_piano_train_45.npy')\n",
    "piano_roll_ip_r = piano_roll_ip.reshape(64, 84)\n",
    "piano_roll_to_midi(piano_roll_ip_r, tempo=120, output_file='output_CP_C.mid')\n",
    "\n",
    "piano_roll_ip = np.load('dataset/CP_P/train/pop_piano_train_45.npy')\n",
    "piano_roll_ip_r = piano_roll_ip.reshape(64, 84)\n",
    "piano_roll_to_midi(piano_roll_ip_r, tempo=120, output_file='output_CP_P.mid')\n",
    "\n",
    "piano_roll_ip = np.load('dataset/JC_C/train/classic_piano_train_45.npy')\n",
    "piano_roll_ip_r = piano_roll_ip.reshape(64, 84)\n",
    "piano_roll_to_midi(piano_roll_ip_r, tempo=120, output_file='output_JC_C.mid')\n",
    "\n",
    "piano_roll_ip = np.load('dataset/JC_J/train/jazz_piano_train_45.npy')\n",
    "piano_roll_ip_r = piano_roll_ip.reshape(64, 84)\n",
    "piano_roll_to_midi(piano_roll_ip_r, tempo=120, output_file='output_JC_J.mid')\n",
    "\n",
    "piano_roll_ip = np.load('dataset/JCP_mixed/classic_piano_train_45.npy')\n",
    "piano_roll_ip_r = piano_roll_ip.reshape(64, 84)\n",
    "piano_roll_to_midi(piano_roll_ip_r, tempo=120, output_file='output_JCP_mixed.mid')\n",
    "\n",
    "piano_roll_ip = np.load('dataset/JP_J/train/jazz_piano_train_45.npy')\n",
    "piano_roll_ip_r = piano_roll_ip.reshape(64, 84)\n",
    "piano_roll_to_midi(piano_roll_ip_r, tempo=120, output_file='output_JP_J.mid')\n",
    "\n",
    "piano_roll_ip = np.load('dataset/JP_P/train/pop_piano_train_8.npy')\n",
    "piano_roll_ip_r = piano_roll_ip.reshape(64, 84)\n",
    "piano_roll_to_midi(piano_roll_ip_r, tempo=120, output_file='output_JP_P.mid')"
   ]
  },
  {
   "cell_type": "code",
   "execution_count": 138,
   "id": "53add393-a670-479e-a1a6-097dddf01f4c",
   "metadata": {},
   "outputs": [],
   "source": [
    "# from midiutil import MIDIFile\n",
    "\n",
    "# def piano_roll_to_midi(piano_roll, tempo=120, output_file='output.mid'):\n",
    "#     # Get the number of notes and time steps\n",
    "#     num_notes, num_steps = len(piano_roll[0]), len(piano_roll)\n",
    "\n",
    "#     # Create a MIDIFile object with one track\n",
    "#     midi = MIDIFile(1)\n",
    "\n",
    "#     # Set the tempo\n",
    "#     midi.addTempo(0, 0, tempo)\n",
    "\n",
    "#     # Define the instrument (use 0 for piano)\n",
    "#     midi.addProgramChange(0, 0, 0, 0)\n",
    "\n",
    "#     # Convert piano roll to MIDI events\n",
    "#     for time in range(num_steps):\n",
    "#         for pitch in range(num_notes):\n",
    "#             if piano_roll[time][pitch] != 0:\n",
    "#                 midi.addNote(0, 0, pitch + 21, time, 1, 100)  # channel=0, duration=1, volume=100\n",
    "\n",
    "#     # Write the MIDI file\n",
    "#     with open(output_file, 'wb') as midi_file:\n",
    "#         midi.writeFile(midi_file)\n",
    "\n",
    "\n",
    "# # Convert piano roll to MIDI and save the MIDI file\n",
    "# piano_roll_ip = np.load('dataset/CP_C/train/classic_piano_train_75.npy')\n",
    "# piano_roll_ip_r = piano_roll_ip.reshape(64, 84)\n",
    "# piano_roll_to_midi(piano_roll_ip_r, tempo=120, output_file='output.mid')"
   ]
  },
  {
   "cell_type": "code",
   "execution_count": 147,
   "id": "f180409f-e1e8-4049-ac13-22d5df364d8a",
   "metadata": {},
   "outputs": [
    {
     "data": {
      "text/html": [
       "\n",
       "        <div id=\"midiPlayerDiv13410\"></div>\n",
       "        <link rel=\"stylesheet\" href=\"https://cuthbertLab.github.io/music21j/css/m21.css\">\n",
       "        \n",
       "        <script\n",
       "        src=\"https://cdnjs.cloudflare.com/ajax/libs/require.js/2.3.6/require.min.js\"\n",
       "        ></script>\n",
       "    \n",
       "        <script>\n",
       "        function midiPlayerDiv13410_play() {\n",
       "            const rq = require.config({\n",
       "                paths: {\n",
       "                    'music21': 'https://cuthbertLab.github.io/music21j/releases/music21.debug',\n",
       "                }\n",
       "            });\n",
       "            rq(['music21'], function(music21) {\n",
       "                mp = new music21.miditools.MidiPlayer();\n",
       "                mp.addPlayer(\"#midiPlayerDiv13410\");\n",
       "                mp.base64Load(\"data:audio/midi;base64,TVRoZAAAAAYAAQACJ2BNVHJrAAAAFAD/UQMHoSAA/1gEBAIYCM5g/y8ATVRyawAAB3kA/wMFUGlhbm8AwAAA4ABAAMAAzmCQLGQAkDhkAJBEZACQTGQAkFNkzmCALAAAgDgAAIBEAACATAAAgFMAAJAsZACQOGQAkERkAJBMZM5ggCwAAIA4AACARAAAgEwAAJAqZACQLGQAkDZkAJA4ZACQQmQAkERkAJBKZACQTGQAkFNkzmCAKgAAgCwAAIA2AACAOAAAgEIAAIBEAACASgAAgEwAAIBTAACQKmQAkDZkAJBCZACQSmQAkFNkzmCAKgAAgDYAAIBCAACASgAAgFMAAJAsZACQOGQAkERkAJBKZACQU2TOYIAsAACAOAAAgEQAAIBKAACAUwAAkCxkAJA4ZACQRGQAkFNkzmCALAAAgDgAAIBEAACAUwAAkChkAJA0ZACQQGQAkEpkAJBQZM5ggCgAAIA0AACAQAAAgEoAAIBQAACQKGQAkDRkAJBAZACQUGTOYIAoAACANAAAgEAAAIBQAACQLWQAkDlkAJBFZACQSmQAkExkzmCALQAAgDkAAIBFAACASgAAgEwAAJAtZACQOWQAkEVkAJBKZM5ggC0AAIA5AACARQAAgEoAAJAsZACQLWQAkDhkAJA5ZACQRGQAkEVkAJBJZACQSmQAkExkzmCALAAAgC0AAIA4AACAOQAAgEQAAIBFAACASQAAgEoAAIBMAACQLGQAkDhkAJBEZACQSWQAkExkzmCALAAAgDgAAIBEAACASQAAgEwAAJAtZACQOWQAkEVkAJBJZACQTGTOYIAtAACAOQAAgEUAAIBJAACATAAAkC1kAJA5ZACQRWQAkElkAJBMZM5ggC0AAIA5AACARQAAgEkAAIBMAACQIWQAkC1kAJA5ZACQSWQAkExkzmCAIQAAgC0AAIA5AACASQAAgEwAAJA5ZACQSWQAkExkzmCAOQAAgEkAAIBMAACQIWQAkC1kAJA9ZACQTGQAkFFkzmCAIQAAgC0AAIA9AACATAAAgFEAAJAhZACQLWQAkD1kAJBMZACQUWTOYIAhAACALQAAgD0AAIBMAACAUQAAkCFkAJAmZACQLWQAkDJkAJA2ZACQPWQAkEVkAJBMZACQUWTOYIAhAACAJgAAgC0AAIAyAACANgAAgD0AAIBFAACATAAAgFEAAJAmZACQMmQAkDZkAJA9ZACQRWTOYIAmAACAMgAAgDYAAIA9AACARQAAkChkAJA0ZACQOGQAkDtkAJBEZM5ggCgAAIA0AACAOAAAgDsAAIBEAACQKGQAkDRkAJA4ZACQO2QAkERkzmCAKAAAgDQAAIA4AACAOwAAgEQAAJAcZACQKGQAkDRkAJA4ZACQO2TOYIAcAACAKAAAgDQAAIA4AACAOwAAkBxkAJAoZACQOGQAkDtkzmCAHAAAgCgAAIA4AACAOwAAkCFkAJAtZACQNGQAkDlkAJA9ZM5ggCEAAIAtAACANAAAgDkAAIA9AACQIWQAkC1kAJA0ZM5ggCEAAIAtAACANAAAkCFkAJAjZACQLWQAkC9kAJA0ZACQOWQAkD1kzmCAIQAAgCMAAIAtAACALwAAgDQAAIA5AACAPQAAkCNkAJAvZACQOWQAkD1kzmCAIwAAgC8AAIA5AACAPQAAkCVkAJAxZACQNGQAkDlkAJA9ZM5ggCUAAIAxAACANAAAgDkAAIA9AACQJWQAkDFkAJA0ZACQOWQAkD1kzmCAJQAAgDEAAIA0AACAOQAAgD0AAJAjZACQL2QAkDRkAJA9ZACQQGTOYIAjAACALwAAgDQAAIA9AACAQAAAkCNkAJAvZACQNGQAkD1kAJBAZM5ggCMAAIAvAACANAAAgD0AAIBAAACQIWQAkC1kAJA9ZACQQGQAkEVkzmCAIQAAgC0AAIA9AACAQAAAgEUAAJAhZACQJmQAkC1kAJAyZACQNmQAkDlkAJA9ZACQQGQAkEVkzmCAIQAAgCYAAIAtAACAMgAAgDYAAIA5AACAPQAAgEAAAIBFAACQJmQAkDJkAJA2ZACQOWQAkD1kzmCAJgAAgDIAAIA2AACAOQAAgD0AAJAmZACQMmQAkDZkAJA5ZACQPWTOYIAmAACAMgAAgDYAAIA5AACAPQAAkChkAJA0ZACQOGQAkDtkzmCAKAAAgDQAAIA4AACAOwAAkBxkAJAoZACQNGQAkERkAJBHZM5ggBwAAIAoAACANAAAgEQAAIBHAACQHGQAkChkAJA0ZACQRGQAkEdkzmCAHAAAgCgAAIA0AACARAAAgEcAgewgkCFkAJAtZACQNGQAkEVkzmCAIQAAgC0AAIA0AACARQAAkCFkAJAtZACQNGQAkEVkzmCAIQAAgC0AAIA0AACARQAAkCFkAJAtZACQNGQAkEVkzmCAIQAAgC0AAIA0AACARQAAkCFkAJAtZACQNGQAkEVkzmCAIQAAgC0AAIA0AACARQAAkCFkAJAtZACQNGQAkEVkzmCAIQAAgC0AAIA0AACARQAAkCFkAJAtZACQNGQAkEVkzmCAIQAAgC0AAIA0AACARQAAkCFkAJAtZACQNGQAkEVkzmCAIQAAgC0AAIA0AACARQDOYP8vAA==\");\n",
       "            });\n",
       "        }\n",
       "        if (typeof require === 'undefined') {\n",
       "            setTimeout(midiPlayerDiv13410_play, 2000);\n",
       "        } else {\n",
       "            midiPlayerDiv13410_play();\n",
       "        }\n",
       "        </script>"
      ],
      "text/plain": [
       "<IPython.core.display.HTML object>"
      ]
     },
     "metadata": {},
     "output_type": "display_data"
    }
   ],
   "source": [
    "from music21 import midi\n",
    "\n",
    "mf = midi.MidiFile()\n",
    "mf.open('output_CP_C.mid') # path='abc.midi'\n",
    "mf.read()\n",
    "mf.close()\n",
    "s = midi.translate.midiFileToStream(mf)\n",
    "s.show('midi')"
   ]
  },
  {
   "cell_type": "code",
   "execution_count": 148,
   "id": "75c868d6-07ba-48e4-8383-cd500ff1a85f",
   "metadata": {},
   "outputs": [
    {
     "data": {
      "text/html": [
       "\n",
       "        <div id=\"midiPlayerDiv14361\"></div>\n",
       "        <link rel=\"stylesheet\" href=\"https://cuthbertLab.github.io/music21j/css/m21.css\">\n",
       "        \n",
       "        <script\n",
       "        src=\"https://cdnjs.cloudflare.com/ajax/libs/require.js/2.3.6/require.min.js\"\n",
       "        ></script>\n",
       "    \n",
       "        <script>\n",
       "        function midiPlayerDiv14361_play() {\n",
       "            const rq = require.config({\n",
       "                paths: {\n",
       "                    'music21': 'https://cuthbertLab.github.io/music21j/releases/music21.debug',\n",
       "                }\n",
       "            });\n",
       "            rq(['music21'], function(music21) {\n",
       "                mp = new music21.miditools.MidiPlayer();\n",
       "                mp.addPlayer(\"#midiPlayerDiv14361\");\n",
       "                mp.base64Load(\"data:audio/midi;base64,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\");\n",
       "            });\n",
       "        }\n",
       "        if (typeof require === 'undefined') {\n",
       "            setTimeout(midiPlayerDiv14361_play, 2000);\n",
       "        } else {\n",
       "            midiPlayerDiv14361_play();\n",
       "        }\n",
       "        </script>"
      ],
      "text/plain": [
       "<IPython.core.display.HTML object>"
      ]
     },
     "metadata": {},
     "output_type": "display_data"
    }
   ],
   "source": [
    "mf = midi.MidiFile()\n",
    "mf.open('output_CP_P.mid') # path='abc.midi'\n",
    "mf.read()\n",
    "mf.close()\n",
    "s = midi.translate.midiFileToStream(mf)\n",
    "s.show('midi')"
   ]
  },
  {
   "cell_type": "code",
   "execution_count": 149,
   "id": "e9ec6a9c-e94c-4e99-b6dd-a2e96d27ba1f",
   "metadata": {},
   "outputs": [
    {
     "data": {
      "text/html": [
       "\n",
       "        <div id=\"midiPlayerDiv15100\"></div>\n",
       "        <link rel=\"stylesheet\" href=\"https://cuthbertLab.github.io/music21j/css/m21.css\">\n",
       "        \n",
       "        <script\n",
       "        src=\"https://cdnjs.cloudflare.com/ajax/libs/require.js/2.3.6/require.min.js\"\n",
       "        ></script>\n",
       "    \n",
       "        <script>\n",
       "        function midiPlayerDiv15100_play() {\n",
       "            const rq = require.config({\n",
       "                paths: {\n",
       "                    'music21': 'https://cuthbertLab.github.io/music21j/releases/music21.debug',\n",
       "                }\n",
       "            });\n",
       "            rq(['music21'], function(music21) {\n",
       "                mp = new music21.miditools.MidiPlayer();\n",
       "                mp.addPlayer(\"#midiPlayerDiv15100\");\n",
       "                mp.base64Load(\"data:audio/midi;base64,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\");\n",
       "            });\n",
       "        }\n",
       "        if (typeof require === 'undefined') {\n",
       "            setTimeout(midiPlayerDiv15100_play, 2000);\n",
       "        } else {\n",
       "            midiPlayerDiv15100_play();\n",
       "        }\n",
       "        </script>"
      ],
      "text/plain": [
       "<IPython.core.display.HTML object>"
      ]
     },
     "metadata": {},
     "output_type": "display_data"
    }
   ],
   "source": [
    "mf = midi.MidiFile()\n",
    "mf.open('output_JC_C.mid') # path='abc.midi'\n",
    "mf.read()\n",
    "mf.close()\n",
    "s = midi.translate.midiFileToStream(mf)\n",
    "s.show('midi')"
   ]
  },
  {
   "cell_type": "code",
   "execution_count": 150,
   "id": "badd00f4-da09-4c7b-ae16-2a477e5bb435",
   "metadata": {},
   "outputs": [
    {
     "data": {
      "text/html": [
       "\n",
       "        <div id=\"midiPlayerDiv16040\"></div>\n",
       "        <link rel=\"stylesheet\" href=\"https://cuthbertLab.github.io/music21j/css/m21.css\">\n",
       "        \n",
       "        <script\n",
       "        src=\"https://cdnjs.cloudflare.com/ajax/libs/require.js/2.3.6/require.min.js\"\n",
       "        ></script>\n",
       "    \n",
       "        <script>\n",
       "        function midiPlayerDiv16040_play() {\n",
       "            const rq = require.config({\n",
       "                paths: {\n",
       "                    'music21': 'https://cuthbertLab.github.io/music21j/releases/music21.debug',\n",
       "                }\n",
       "            });\n",
       "            rq(['music21'], function(music21) {\n",
       "                mp = new music21.miditools.MidiPlayer();\n",
       "                mp.addPlayer(\"#midiPlayerDiv16040\");\n",
       "                mp.base64Load(\"data:audio/midi;base64,TVRoZAAAAAYAAQACJ2BNVHJrAAAAFAD/UQMHoSAA/1gEBAIYCM5g/y8ATVRyawAAECEA/wMFUGlhbm8AwAAA4ABAAMAAzmCQImQAkC5kAJAxZACQMmQAkDRkAJA1ZACQNmQAkDlkAJA6ZACQPWQAkD5kAJBBZM5ggCIAAIAuAACAMQAAgDIAAIA0AACANQAAgDYAAIA5AACAOgAAgD0AAIA+AACAQQAAkClkAJAtZACQLmQAkDBkAJAyZACQNWQAkDlkAJA6ZACQPmQAkEFkzmCAKQAAgC0AAIAuAACAMAAAgDIAAIA1AACAOQAAgDoAAIA+AACAQQAAkCJkAJApZACQLWQAkC5kAJAwZACQNWQAkDpkzmCAIgAAgCkAAIAtAACALgAAgDAAAIA1AACAOgAAkCJkAJBGZM5ggCIAAIBGAACQImQAkCZkAJAuZACQOmQAkEZkzmCAIgAAgCYAAIAuAACAOgAAgEYAAJAuZACQM2QAkDpkAJA/ZM5ggC4AAIAzAACAOgAAgD8AAJAmZACQM2QAkDRkAJA/ZACQQGTOYIAmAACAMwAAgDQAAIA/AACAQAAAkCZkAJAuZACQNGQAkEBkzmCAJgAAgC4AAIA0AACAQAAAkCZkAJAoZACQLmQAkDpkAJBGZM5ggCYAAIAoAACALgAAgDoAAIBGAACQKGQAkDBkAJA6ZACQPGQAkEZkzmCAKAAAgDAAAIA6AACAPAAAgEYAAJAmZACQKGQAkDBkAJAxZACQPGQAkD1kzmCAJgAAgCgAAIAwAACAMQAAgDwAAIA9AACQLmQAkDFkAJA6ZACQPWTOYIAuAACAMQAAgDoAAIA9AACQJmQAkC5kAJAyZACQOmQAkD5kzmCAJgAAgC4AAIAyAACAOgAAgD4AAJAmZACQKWQAkDJkAJA1ZACQPmTOYIAmAACAKQAAgDIAAIA1AACAPgAAkCJkAJAmZACQKWQAkDVkzmCAIgAAgCYAAIApAACANQDOYJAiZACQMmQAkDVkAJA5ZACQPGQAkD5kAJBBZM5ggCIAAIAyAACANQAAgDkAAIA8AACAPgAAgEEAAJAiZACQLmQAkDJkAJA1ZACQN2QAkDpkAJA8ZACQPmQAkEFkzmCAIgAAgC4AAIAyAACANQAAgDcAAIA6AACAPAAAgD4AAIBBAACQImQAkCZkAJAtZACQMWQAkDRkAJA2ZACQOWQAkD1kzmCAIgAAgCYAAIAtAACAMQAAgDQAAIA2AACAOQAAgD0AAJAmZACQLWQAkC5kAJAxZACQMmQAkDRkAJA1ZACQNmQAkDdkAJA5ZACQOmQAkD1kAJA+ZM5ggCYAAIAtAACALgAAgDEAAIAyAACANAAAgDUAAIA2AACANwAAgDkAAIA6AACAPQAAgD4AAJAlZACQJmQAkC5kAJAyZACQNWQAkDlkAJA6ZACQPmQAkEBkAJBDZACQRWQAkElkzmCAJQAAgCYAAIAuAACAMgAAgDUAAIA5AACAOgAAgD4AAIBAAACAQwAAgEUAAIBJAACQJWQAkDNkAJA3ZACQOWQAkD1kAJA/ZACQQGQAkENkAJBFZACQSWTOYIAlAACAMwAAgDcAAIA5AACAPQAAgD8AAIBAAACAQwAAgEUAAIBJAACQJWQAkChkAJAuZACQMWQAkDNkAJA0ZACQNmQAkDdkAJA6ZACQPWQAkD9kAJBDZM5ggCUAAIAoAACALgAAgDEAAIAzAACANAAAgDYAAIA3AACAOgAAgD0AAIA/AACAQwAAkChkAJAtZACQLmQAkDBkAJAxZACQM2QAkDRkAJA1ZACQNmQAkDlkAJA6ZACQPGTOYIAoAACALQAAgC4AAIAwAACAMQAAgDMAAIA0AACANQAAgDYAAIA5AACAOgAAgDwAAJAnZACQKGQAkC1kAJAwZACQMWQAkDNkAJA0ZACQNWQAkDdkAJA5ZACQOmQAkDxkAJA9ZACQQGTOYIAnAACAKAAAgC0AAIAwAACAMQAAgDMAAIA0AACANQAAgDcAAIA5AACAOgAAgDwAAIA9AACAQAAAkCdkAJAxZACQM2QAkDRkAJA2ZACQN2QAkDlkAJA6ZACQPGQAkD1kAJA/ZACQQmTOYIAnAACAMQAAgDMAAIA0AACANgAAgDcAAIA5AACAOgAAgDwAAIA9AACAPwAAgEIAAJAiZACQJ2QAkDRkAJA3ZACQOmQAkD1kAJBAZACQQ2TOYIAiAACAJwAAgDQAAIA3AACAOgAAgD0AAIBAAACAQwAAkCJkAJAzZACQNmQAkDlkAJA8ZACQP2QAkEJkzmCAIgAAgDMAAIA2AACAOQAAgDwAAIA/AACAQgAAkCJkAJAlZACQM2QAkDRkAJA2ZACQOWQAkDxkAJA9ZACQP2QAkEBkAJBCZACQQ2TOYIAiAACAJQAAgDMAAIA0AACANgAAgDkAAIA8AACAPQAAgD8AAIBAAACAQgAAgEMAAJAlZACQLmQAkDFkAJA0ZACQN2QAkDpkAJA9ZACQQGQAkENkzmCAJQAAgC4AAIAxAACANAAAgDcAAIA6AACAPQAAgEAAAIBDAACQImQAkCVkAJAtZACQMGQAkDNkAJA2ZACQOWQAkDxkzmCAIgAAgCUAAIAtAACAMAAAgDMAAIA2AACAOQAAgDwAAJAiZACQLWQAkC5kAJAwZACQMWQAkDNkAJA0ZACQNmQAkDdkAJA5ZACQOmQAkDxkAJA9ZM5ggCIAAIAtAACALgAAgDAAAIAxAACAMwAAgDQAAIA2AACANwAAgDkAAIA6AACAPAAAgD0AAJAiZACQJmQAkC5kAJAxZACQNGQAkDVkAJA3ZACQOWQAkDpkAJA8ZACQPWQAkD5kAJBBZACQRWTOYIAiAACAJgAAgC4AAIAxAACANAAAgDUAAIA3AACAOQAAgDoAAIA8AACAPQAAgD4AAIBBAACARQAAkCZkAJA1ZACQOGQAkDlkAJA6ZACQPGQAkD5kAJBBZACQRGQAkEVkAJBGZM5ggCYAAIA1AACAOAAAgDkAAIA6AACAPAAAgD4AAIBBAACARAAAgEUAAIBGAACQImQAkCZkAJA4ZACQOmQAkD5kAJBBZACQRGQAkEZkzmCAIgAAgCYAAIA4AACAOgAAgD4AAIBBAACARAAAgEYAAJAiZACQLmQAkDhkAJA6ZACQPmQAkEFkAJBEZACQRmTOYIAiAACALgAAgDgAAIA6AACAPgAAgEEAAIBEAACARgAAkCJkAJAkZACQLmQAkDdkAJA6ZACQQ2TOYIAiAACAJAAAgC4AAIA3AACAOgAAgEMAAJAkZACQL2QAkDdkAJA7ZACQQ2TOYIAkAACALwAAgDcAAIA7AACAQwAAkCRkAJAmZACQL2QAkDZkAJA7ZACQQmTOYIAkAACAJgAAgC8AAIA2AACAOwAAgEIAAJAmZACQMGQAkDZkAJA8ZACQQmTOYIAmAACAMAAAgDYAAIA8AACAQgAAkCZkAJAnZACQMGQAkDVkAJA8ZACQQWTOYIAmAACAJwAAgDAAAIA1AACAPAAAgEEAAJAnZACQMWQAkDVkAJA9ZACQQWTOYIAnAACAMQAAgDUAAIA9AACAQQAAkCdkAJArZACQMWQAkDRkAJA9ZACQQGTOYIAnAACAKwAAgDEAAIA0AACAPQAAgEAAAJArZACQM2QAkDRkAJA1ZACQPmQAkEBkzmCAKwAAgDMAAIA0AACANQAAgD4AAIBAAACQJ2QAkCtkAJAuZACQM2QAkDVkAJA6ZACQPmTOYIAnAACAKwAAgC4AAIAzAACANQAAgDoAAIA+AACQJ2QAkC5kAJAvZACQOmQAkDtkzmCAJwAAgC4AAIAvAACAOgAAgDsAAJAmZACQJ2QAkC9kAJA7ZM5ggCYAAIAnAACALwAAgDsAAJAmZACQL2QAkDtkzmCAJgAAgC8AAIA7AACQJmQAkCdkAJAzZACQN2QAkDpkAJA8ZACQP2QAkENkzmCAJgAAgCcAAIAzAACANwAAgDoAAIA8AACAPwAAgEMAAJAnZACQM2QAkDdkAJA6ZACQPGQAkD9kzmCAJwAAgDMAAIA3AACAOgAAgDwAAIA/AACQJ2QAkCtkAJA3ZACQOmQAkENkAJBGZM5ggCcAAIArAACANwAAgDoAAIBDAACARgAAkCtkAJA3ZACQOGQAkDpkAJA7ZACQPmQAkEFkAJBDZACQRGQAkEdkzmCAKwAAgDcAAIA4AACAOgAAgDsAAIA+AACAQQAAgEMAAIBEAACARwAAkCtkAJAuZACQOGQAkDpkAJA7ZACQPGQAkD5kAJA/ZACQQWQAkENkAJBEZACQRmQAkEdkAJBIZM5ggCsAAIAuAACAOAAAgDoAAIA7AACAPAAAgD4AAIA/AACAQQAAgEMAAIBEAACARgAAgEcAAIBIAACQLmQAkDpkAJA8ZACQP2QAkEZkAJBIZM5ggC4AAIA6AACAPAAAgD8AAIBGAACASAAAkCdkAJAuZACQOmQAkDxkAJA/ZACQQ2QAkEZkAJBIZACQS2QAkE9kzmCAJwAAgC4AAIA6AACAPAAAgD8AAIBDAACARgAAgEgAAIBLAACATwAAkCdkAJBDZACQRmQAkEhkAJBLZACQT2TOYIAnAACAQwAAgEYAAIBIAACASwAAgE8AAJAnZACQKmQAkD9kAJBCZACQQ2QAkEZkAJBIZACQSmQAkEtkAJBPZM5ggCcAAIAqAACAPwAAgEIAAIBDAACARgAAgEgAAIBKAACASwAAgE8AAJAqZACQOmQAkD5kAJA/ZACQQmQAkEZkAJBKZM5ggCoAAIA6AACAPgAAgD8AAIBCAACARgAAgEoAAJAqZACQLmQAkDpkAJA9ZACQP2QAkEJkAJBDZACQRmQAkEdkAJBJZACQS2TOYIAqAACALgAAgDoAAIA9AACAPwAAgEIAAIBDAACARgAAgEcAAIBJAACASwAAkC5kAJA9ZACQPmQAkENkAJBGZACQR2QAkEhkAJBJZACQSmQAkEtkzmCALgAAgD0AAIA+AACAQwAAgEYAAIBHAACASAAAgEkAAIBKAACASwAAkCpkAJAuZACQNmQAkDpkAJA8ZACQPmQAkD9kAJBCZACQRmQAkEhkAJBKZM5ggCoAAIAuAACANgAAgDoAAIA8AACAPgAAgD8AAIBCAACARgAAgEgAAIBKAACQJ2QAkCpkAJA2ZACQOWQAkDpkAJA7ZACQPGQAkD5kAJA/ZACQQWQAkEJkAJBFZACQR2TOYIAnAACAKgAAgDYAAIA5AACAOgAAgDsAAIA8AACAPgAAgD8AAIBBAACAQgAAgEUAAIBHAACQJ2QAkCpkAJA5ZACQO2QAkDxkAJA+ZACQP2QAkEFkAJBCZACQRWQAkEZkAJBHZACQSGTOYIAnAACAKgAAgDkAAIA7AACAPAAAgD4AAIA/AACAQQAAgEIAAIBFAACARgAAgEcAAIBIAACQJ2QAkDBkAJAzZACQNmQAkDpkAJA8ZACQP2QAkEJkAJBGZACQSGTOYIAnAACAMAAAgDMAAIA2AACAOgAAgDwAAIA/AACAQgAAgEYAAIBIAM5g/y8A\");\n",
       "            });\n",
       "        }\n",
       "        if (typeof require === 'undefined') {\n",
       "            setTimeout(midiPlayerDiv16040_play, 2000);\n",
       "        } else {\n",
       "            midiPlayerDiv16040_play();\n",
       "        }\n",
       "        </script>"
      ],
      "text/plain": [
       "<IPython.core.display.HTML object>"
      ]
     },
     "metadata": {},
     "output_type": "display_data"
    }
   ],
   "source": [
    "mf = midi.MidiFile()\n",
    "mf.open('output_JC_J.mid') # path='abc.midi'\n",
    "mf.read()\n",
    "mf.close()\n",
    "s = midi.translate.midiFileToStream(mf)\n",
    "s.show('midi')"
   ]
  },
  {
   "cell_type": "code",
   "execution_count": 143,
   "id": "a1fedefd-93b7-42ef-b38b-d3a345918ba9",
   "metadata": {},
   "outputs": [
    {
     "data": {
      "text/html": [
       "\n",
       "        <div id=\"midiPlayerDiv10781\"></div>\n",
       "        <link rel=\"stylesheet\" href=\"https://cuthbertLab.github.io/music21j/css/m21.css\">\n",
       "        \n",
       "        <script\n",
       "        src=\"https://cdnjs.cloudflare.com/ajax/libs/require.js/2.3.6/require.min.js\"\n",
       "        ></script>\n",
       "    \n",
       "        <script>\n",
       "        function midiPlayerDiv10781_play() {\n",
       "            const rq = require.config({\n",
       "                paths: {\n",
       "                    'music21': 'https://cuthbertLab.github.io/music21j/releases/music21.debug',\n",
       "                }\n",
       "            });\n",
       "            rq(['music21'], function(music21) {\n",
       "                mp = new music21.miditools.MidiPlayer();\n",
       "                mp.addPlayer(\"#midiPlayerDiv10781\");\n",
       "                mp.base64Load(\"data:audio/midi;base64,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\");\n",
       "            });\n",
       "        }\n",
       "        if (typeof require === 'undefined') {\n",
       "            setTimeout(midiPlayerDiv10781_play, 2000);\n",
       "        } else {\n",
       "            midiPlayerDiv10781_play();\n",
       "        }\n",
       "        </script>"
      ],
      "text/plain": [
       "<IPython.core.display.HTML object>"
      ]
     },
     "metadata": {},
     "output_type": "display_data"
    }
   ],
   "source": [
    "mf = midi.MidiFile()\n",
    "mf.open('output_JCP_mixed.mid') # path='abc.midi'\n",
    "mf.read()\n",
    "mf.close()\n",
    "s = midi.translate.midiFileToStream(mf)\n",
    "s.show('midi')"
   ]
  },
  {
   "cell_type": "code",
   "execution_count": 144,
   "id": "2c1fb58d-3ed5-4551-b6e7-9745bda1cd64",
   "metadata": {},
   "outputs": [
    {
     "data": {
      "text/html": [
       "\n",
       "        <div id=\"midiPlayerDiv11728\"></div>\n",
       "        <link rel=\"stylesheet\" href=\"https://cuthbertLab.github.io/music21j/css/m21.css\">\n",
       "        \n",
       "        <script\n",
       "        src=\"https://cdnjs.cloudflare.com/ajax/libs/require.js/2.3.6/require.min.js\"\n",
       "        ></script>\n",
       "    \n",
       "        <script>\n",
       "        function midiPlayerDiv11728_play() {\n",
       "            const rq = require.config({\n",
       "                paths: {\n",
       "                    'music21': 'https://cuthbertLab.github.io/music21j/releases/music21.debug',\n",
       "                }\n",
       "            });\n",
       "            rq(['music21'], function(music21) {\n",
       "                mp = new music21.miditools.MidiPlayer();\n",
       "                mp.addPlayer(\"#midiPlayerDiv11728\");\n",
       "                mp.base64Load(\"data:audio/midi;base64,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\");\n",
       "            });\n",
       "        }\n",
       "        if (typeof require === 'undefined') {\n",
       "            setTimeout(midiPlayerDiv11728_play, 2000);\n",
       "        } else {\n",
       "            midiPlayerDiv11728_play();\n",
       "        }\n",
       "        </script>"
      ],
      "text/plain": [
       "<IPython.core.display.HTML object>"
      ]
     },
     "metadata": {},
     "output_type": "display_data"
    }
   ],
   "source": [
    "mf = midi.MidiFile()\n",
    "mf.open('output_JP_J.mid') # path='abc.midi'\n",
    "mf.read()\n",
    "mf.close()\n",
    "s = midi.translate.midiFileToStream(mf)\n",
    "s.show('midi')"
   ]
  },
  {
   "cell_type": "code",
   "execution_count": 145,
   "id": "6319b8ce-3793-4c6a-99d5-845145ee52ec",
   "metadata": {},
   "outputs": [
    {
     "data": {
      "text/html": [
       "\n",
       "        <div id=\"midiPlayerDiv12672\"></div>\n",
       "        <link rel=\"stylesheet\" href=\"https://cuthbertLab.github.io/music21j/css/m21.css\">\n",
       "        \n",
       "        <script\n",
       "        src=\"https://cdnjs.cloudflare.com/ajax/libs/require.js/2.3.6/require.min.js\"\n",
       "        ></script>\n",
       "    \n",
       "        <script>\n",
       "        function midiPlayerDiv12672_play() {\n",
       "            const rq = require.config({\n",
       "                paths: {\n",
       "                    'music21': 'https://cuthbertLab.github.io/music21j/releases/music21.debug',\n",
       "                }\n",
       "            });\n",
       "            rq(['music21'], function(music21) {\n",
       "                mp = new music21.miditools.MidiPlayer();\n",
       "                mp.addPlayer(\"#midiPlayerDiv12672\");\n",
       "                mp.base64Load(\"data:audio/midi;base64,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\");\n",
       "            });\n",
       "        }\n",
       "        if (typeof require === 'undefined') {\n",
       "            setTimeout(midiPlayerDiv12672_play, 2000);\n",
       "        } else {\n",
       "            midiPlayerDiv12672_play();\n",
       "        }\n",
       "        </script>"
      ],
      "text/plain": [
       "<IPython.core.display.HTML object>"
      ]
     },
     "metadata": {},
     "output_type": "display_data"
    }
   ],
   "source": [
    "mf = midi.MidiFile()\n",
    "mf.open('output_JP_P.mid') # path='abc.midi'\n",
    "mf.read()\n",
    "mf.close()\n",
    "s = midi.translate.midiFileToStream(mf)\n",
    "s.show('midi')"
   ]
  },
  {
   "cell_type": "code",
   "execution_count": null,
   "id": "10521716-cf43-453d-928a-d9cda8ff7832",
   "metadata": {},
   "outputs": [],
   "source": []
  },
  {
   "cell_type": "code",
   "execution_count": null,
   "id": "0a0d992d-a377-4437-83c0-47e656a505dd",
   "metadata": {},
   "outputs": [],
   "source": []
  },
  {
   "cell_type": "code",
   "execution_count": null,
   "id": "fc6078e6-176c-48c0-8a4a-e82c69c1f753",
   "metadata": {},
   "outputs": [],
   "source": []
  },
  {
   "cell_type": "code",
   "execution_count": null,
   "id": "0ad49f02-40ce-4177-ad0f-2bd6b3ff23cb",
   "metadata": {},
   "outputs": [],
   "source": []
  },
  {
   "cell_type": "code",
   "execution_count": null,
   "id": "05d9a140-89db-4c53-9574-83222136d31f",
   "metadata": {},
   "outputs": [],
   "source": []
  },
  {
   "cell_type": "code",
   "execution_count": 151,
   "id": "4facfe20-d273-4ad1-81f0-75ea26654bfb",
   "metadata": {},
   "outputs": [],
   "source": [
    "piano_roll_ip_1 = np.load('dataset/CP_C/train/classic_piano_train_45.npy')\n",
    "piano_roll_ip_2 = np.load('dataset/JC_C/train/classic_piano_train_45.npy')"
   ]
  },
  {
   "cell_type": "code",
   "execution_count": 152,
   "id": "a0df928a-55cc-47d7-a9fb-08f13ac2e31c",
   "metadata": {},
   "outputs": [
    {
     "data": {
      "text/plain": [
       "((64, 84, 1), (64, 84, 1))"
      ]
     },
     "execution_count": 152,
     "metadata": {},
     "output_type": "execute_result"
    }
   ],
   "source": [
    "piano_roll_ip_1.shape, piano_roll_ip_2.shape"
   ]
  },
  {
   "cell_type": "code",
   "execution_count": 154,
   "id": "0d12923c-7719-4801-9bbb-6117dc38670a",
   "metadata": {},
   "outputs": [
    {
     "ename": "TypeError",
     "evalue": "numpy boolean subtract, the `-` operator, is not supported, use the bitwise_xor, the `^` operator, or the logical_xor function instead.",
     "output_type": "error",
     "traceback": [
      "\u001b[0;31m---------------------------------------------------------------------------\u001b[0m",
      "\u001b[0;31mTypeError\u001b[0m                                 Traceback (most recent call last)",
      "Cell \u001b[0;32mIn[154], line 1\u001b[0m\n\u001b[0;32m----> 1\u001b[0m \u001b[43mnp\u001b[49m\u001b[38;5;241;43m.\u001b[39;49m\u001b[43msubtract\u001b[49m\u001b[43m(\u001b[49m\u001b[43mpiano_roll_ip_1\u001b[49m\u001b[43m,\u001b[49m\u001b[43m \u001b[49m\u001b[43mpiano_roll_ip_2\u001b[49m\u001b[43m)\u001b[49m\n",
      "\u001b[0;31mTypeError\u001b[0m: numpy boolean subtract, the `-` operator, is not supported, use the bitwise_xor, the `^` operator, or the logical_xor function instead."
     ]
    }
   ],
   "source": [
    "np.subtract(piano_roll_ip_1, piano_roll_ip_2)"
   ]
  },
  {
   "cell_type": "code",
   "execution_count": null,
   "id": "6e895ab9-9d72-44fa-b030-65d64157acd7",
   "metadata": {},
   "outputs": [],
   "source": []
  }
 ],
 "metadata": {
  "kernelspec": {
   "display_name": "Python 3 (ipykernel)",
   "language": "python",
   "name": "python3"
  },
  "language_info": {
   "codemirror_mode": {
    "name": "ipython",
    "version": 3
   },
   "file_extension": ".py",
   "mimetype": "text/x-python",
   "name": "python",
   "nbconvert_exporter": "python",
   "pygments_lexer": "ipython3",
   "version": "3.10.13"
  }
 },
 "nbformat": 4,
 "nbformat_minor": 5
}
