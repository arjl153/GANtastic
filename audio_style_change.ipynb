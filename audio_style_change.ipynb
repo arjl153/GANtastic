{
 "cells": [
  {
   "cell_type": "code",
   "execution_count": 1,
   "id": "ebe0119f-ce0c-4c65-87b8-efad6f437004",
   "metadata": {},
   "outputs": [
    {
     "name": "stdout",
     "output_type": "stream",
     "text": [
      "[name: \"/device:CPU:0\"\n",
      "device_type: \"CPU\"\n",
      "memory_limit: 268435456\n",
      "locality {\n",
      "}\n",
      "incarnation: 14582578204001136002\n",
      "xla_global_id: -1\n",
      ", name: \"/device:GPU:0\"\n",
      "device_type: \"GPU\"\n",
      "locality {\n",
      "  bus_id: 1\n",
      "}\n",
      "incarnation: 549487290235473912\n",
      "physical_device_desc: \"device: 0, name: METAL, pci bus id: <undefined>\"\n",
      "xla_global_id: -1\n",
      "]\n"
     ]
    },
    {
     "name": "stderr",
     "output_type": "stream",
     "text": [
      "2023-12-01 18:27:25.992596: I metal_plugin/src/device/metal_device.cc:1154] Metal device set to: Apple M2\n",
      "2023-12-01 18:27:25.992618: I metal_plugin/src/device/metal_device.cc:296] systemMemory: 8.00 GB\n",
      "2023-12-01 18:27:25.992624: I metal_plugin/src/device/metal_device.cc:313] maxCacheSize: 2.67 GB\n",
      "2023-12-01 18:27:25.992690: I tensorflow/core/common_runtime/pluggable_device/pluggable_device_factory.cc:306] Could not identify NUMA node of platform GPU ID 0, defaulting to 0. Your kernel may not have been built with NUMA support.\n",
      "2023-12-01 18:27:25.992909: I tensorflow/core/common_runtime/pluggable_device/pluggable_device_factory.cc:272] Created TensorFlow device (/device:GPU:0 with 0 MB memory) -> physical PluggableDevice (device: 0, name: METAL, pci bus id: <undefined>)\n"
     ]
    }
   ],
   "source": [
    "from tensorflow.python.client import device_lib\n",
    "print(device_lib.list_local_devices())"
   ]
  },
  {
   "cell_type": "code",
   "execution_count": 2,
   "id": "97afd7d7-b6d4-4b9c-93b2-25cf994badd7",
   "metadata": {},
   "outputs": [
    {
     "data": {
      "text/plain": [
       "[PhysicalDevice(name='/physical_device:GPU:0', device_type='GPU')]"
      ]
     },
     "execution_count": 2,
     "metadata": {},
     "output_type": "execute_result"
    }
   ],
   "source": [
    "import tensorflow as tf\n",
    "tf.config.list_physical_devices('GPU')"
   ]
  },
  {
   "cell_type": "code",
   "execution_count": 3,
   "id": "2b25432d-4acd-4f53-bd69-38a7d325daa7",
   "metadata": {},
   "outputs": [],
   "source": [
    "# from tensorflow.keras.layers import Input, Dense, Reshape, Flatten, Concatenate, Conv2D, Conv2DTranspose, \\\n",
    "# GlobalAveragePooling2D, UpSampling2D, LeakyReLU, ReLU, Add, Multiply, Lambda, Dot, BatchNormalization, Activation, \\\n",
    "# ZeroPadding2D, Cropping2D, Cropping1D\n",
    "# from tensorflow.keras.models import Sequential, Model, load_model\n",
    "\n",
    "import os\n",
    "import librosa\n",
    "import soundfile as sf\n",
    "import IPython\n",
    "import numpy as np\n",
    "import matplotlib.pyplot as plt\n",
    "from scipy.linalg import svd"
   ]
  },
  {
   "cell_type": "code",
   "execution_count": null,
   "id": "9ff6a00f-e65a-49cf-a45a-5d5514247626",
   "metadata": {},
   "outputs": [],
   "source": []
  },
  {
   "cell_type": "code",
   "execution_count": 4,
   "id": "d631fd2a-a20b-4415-b8c2-66ed1518bf56",
   "metadata": {},
   "outputs": [],
   "source": [
    "genre_path_1 = 'data_2/genres_original/classical'\n",
    "cls_names = sorted([os.path.join(genre_path_1, f) for f in os.listdir(genre_path_1) if os.path.isfile(os.path.join(genre_path_1, f))])\n",
    "\n",
    "genre_path_2 = 'data_2/genres_original/jazz'\n",
    "jzz_names = sorted([os.path.join(genre_path_2, f) for f in os.listdir(genre_path_2) if os.path.isfile(os.path.join(genre_path_2, f)) \\\n",
    "                 and 'jazz.00054.wav' not in f])\n",
    "\n",
    "genre_path_3 = 'data_2/genres_original/country'\n",
    "ctry_names = sorted([os.path.join(genre_path_3, f) for f in os.listdir(genre_path_3) if os.path.isfile(os.path.join(genre_path_3, f))])\n",
    "\n",
    "# genre_path_1 = 'data_2/genres_original/blues'\n",
    "# genre_1 = sorted([os.path.join(genre_path_1, f) for f in os.listdir(genre_path_1) if os.path.isfile(os.path.join(genre_path_1, f))])\n",
    "\n",
    "# genre_path_1 = 'data_2/genres_original/blues'\n",
    "# genre_1 = sorted([os.path.join(genre_path_1, f) for f in os.listdir(genre_path_1) if os.path.isfile(os.path.join(genre_path_1, f))])\n",
    "\n",
    "# genre_path_1 = 'data_2/genres_original/blues'\n",
    "# genre_1 = sorted([os.path.join(genre_path_1, f) for f in os.listdir(genre_path_1) if os.path.isfile(os.path.join(genre_path_1, f))])\n",
    "\n",
    "# genre_path_1 = 'data_2/genres_original/blues'\n",
    "# genre_1 = sorted([os.path.join(genre_path_1, f) for f in os.listdir(genre_path_1) if os.path.isfile(os.path.join(genre_path_1, f))])\n",
    "\n",
    "# genre_path_1 = 'data_2/genres_original/blues'\n",
    "# genre_1 = sorted([os.path.join(genre_path_1, f) for f in os.listdir(genre_path_1) if os.path.isfile(os.path.join(genre_path_1, f))])\n",
    "\n",
    "# print(speeker_names_1[0], speeker_names_2[0], speeker_names_3[0], speeker_names_4[0])"
   ]
  },
  {
   "cell_type": "code",
   "execution_count": 5,
   "id": "44e41c26-a778-4c26-8fd7-887ad4e01b40",
   "metadata": {},
   "outputs": [],
   "source": [
    "s_rate = 22050\n",
    "n_fft = 2048\n",
    "hop_length = 512\n",
    "\n",
    "def load_and_process_audio(speech_names):\n",
    "    data = [load_audio(x) for x in speech_names]\n",
    "    max_t = max([x.shape[1] for x in data])\n",
    "    data = [pad_zeros(x, max_t) for x in data]\n",
    "    data = np.array(data)\n",
    "    # data = np.transpose(data, (0, 2, 1))\n",
    "    return data\n",
    "\n",
    "def load_audio(speech_name):\n",
    "    s, sr = librosa.load(speech_name, sr=s_rate)\n",
    "    sr = librosa.stft(s, n_fft=n_fft, hop_length=hop_length)\n",
    "    return np.abs(sr)\n",
    "\n",
    "def pad(data, T):\n",
    "    data = [pad_zeros(x, T) for x in data]\n",
    "    return np.array(data)\n",
    "\n",
    "def pad_zeros(sr, T):\n",
    "    return np.pad(sr, ((0, 0), (0, T - sr.shape[1])), mode='constant')"
   ]
  },
  {
   "cell_type": "code",
   "execution_count": 6,
   "id": "22610688-1ff9-4214-b5e6-91b6f37d0975",
   "metadata": {},
   "outputs": [],
   "source": [
    "cls = load_and_process_audio(cls_names)\n",
    "jzz = load_and_process_audio(jzz_names)\n",
    "ctry = load_and_process_audio(ctry_names)"
   ]
  },
  {
   "cell_type": "code",
   "execution_count": 7,
   "id": "0ab187fd-f3e7-4f0e-85a4-88e58e9f0be5",
   "metadata": {},
   "outputs": [
    {
     "name": "stdout",
     "output_type": "stream",
     "text": [
      "(100, 1025, 1314) (99, 1025, 1313) (100, 1025, 1308)\n"
     ]
    }
   ],
   "source": [
    "print(cls.shape, jzz.shape, ctry.shape)"
   ]
  },
  {
   "cell_type": "code",
   "execution_count": 8,
   "id": "335d2ce8-15c5-49a8-91ce-3ac3edcced02",
   "metadata": {},
   "outputs": [
    {
     "name": "stdout",
     "output_type": "stream",
     "text": [
      "(99, 1025, 1314)\n"
     ]
    }
   ],
   "source": [
    "max_t = max([x[2] for x in [cls.shape, jzz.shape, ctry.shape]])\n",
    "cls = pad(cls, max_t)\n",
    "\n",
    "max_t = max([x[2] for x in [cls.shape, jzz.shape, ctry.shape]])\n",
    "jzz = pad(jzz, max_t)\n",
    "print(jzz.shape)\n",
    "\n",
    "\n",
    "max_t = max([x[2] for x in [cls.shape, jzz.shape, ctry.shape]])\n",
    "ctry = pad(ctry, max_t)\n"
   ]
  },
  {
   "cell_type": "code",
   "execution_count": 9,
   "id": "41dc18e0-d82c-40cc-9b33-f0f683038550",
   "metadata": {},
   "outputs": [],
   "source": [
    "cls = np.transpose(cls, (0, 2, 1))\n",
    "jzz = np.transpose(jzz, (0, 2, 1))\n",
    "ctry = np.transpose(ctry, (0, 2, 1))"
   ]
  },
  {
   "cell_type": "code",
   "execution_count": 10,
   "id": "a0a1e0aa-1605-4c18-bec4-b7864a5d49a7",
   "metadata": {},
   "outputs": [],
   "source": [
    "cls_s = cls[np.random.choice(cls.shape[0], size=50, replace=False)]\n",
    "jzz_s = jzz[np.random.choice(jzz.shape[0], size=25, replace=False)]\n",
    "ctry_s = ctry[np.random.choice(ctry.shape[0], size=25, replace=False)]"
   ]
  },
  {
   "cell_type": "code",
   "execution_count": 11,
   "id": "1c69593c-dec0-454d-a228-03dec272dc55",
   "metadata": {},
   "outputs": [
    {
     "name": "stdout",
     "output_type": "stream",
     "text": [
      "(50, 1314, 1025) (25, 1314, 1025) (25, 1314, 1025)\n"
     ]
    }
   ],
   "source": [
    "print(cls_s.shape, jzz_s.shape, ctry_s.shape)"
   ]
  },
  {
   "cell_type": "code",
   "execution_count": 12,
   "id": "fa7bd3ca-4a67-47df-85f7-1e99476537f6",
   "metadata": {},
   "outputs": [
    {
     "data": {
      "text/plain": [
       "(100, 1314, 1025)"
      ]
     },
     "execution_count": 12,
     "metadata": {},
     "output_type": "execute_result"
    }
   ],
   "source": [
    "data = np.concatenate((cls_s, jzz_s, ctry_s), axis=0)\n",
    "data.shape"
   ]
  },
  {
   "cell_type": "code",
   "execution_count": null,
   "id": "86b02a74-2d5c-45fa-bbaa-f281dc9b1d63",
   "metadata": {},
   "outputs": [],
   "source": []
  },
  {
   "cell_type": "code",
   "execution_count": null,
   "id": "487c1815-b50c-45c4-94b3-9d074613d773",
   "metadata": {},
   "outputs": [],
   "source": [
    "from random import random\n",
    "from numpy import load\n",
    "from numpy import zeros\n",
    "from numpy import ones\n",
    "from numpy import asarray\n",
    "from numpy.random import randint\n",
    "from keras.optimizers import Adam\n",
    "from keras.initializers import RandomNormal\n",
    "from keras.models import Model\n",
    "from keras.layers import Input\n",
    "from keras.layers import Conv2D\n",
    "from keras.layers import Conv2DTranspose\n",
    "from keras.layers import LeakyReLU\n",
    "from keras.layers import Activation\n",
    "from keras.layers import Concatenate\n",
    "#from keras_contrib.layers.normalization.instancenormalization import InstanceNormalization\n",
    "\n",
    "#Download instance norm. code from the link above.\n",
    "#Or install keras_contrib using guidelines here: https://github.com/keras-team/keras-contrib \n",
    "from instancenormalization import InstanceNormalization "
   ]
  },
  {
   "cell_type": "code",
   "execution_count": null,
   "id": "b024b26b-b85d-4cdd-aa89-5572c9469daf",
   "metadata": {},
   "outputs": [],
   "source": [
    "c_model_BtoA = load_model('c_model_BtoA.h5')"
   ]
  },
  {
   "cell_type": "code",
   "execution_count": null,
   "id": "2fa86e91-25ce-46a7-a9aa-5c610c69f94b",
   "metadata": {},
   "outputs": [],
   "source": []
  },
  {
   "cell_type": "code",
   "execution_count": null,
   "id": "3de18f11-8cee-451c-b532-8823c60fd906",
   "metadata": {},
   "outputs": [],
   "source": []
  },
  {
   "cell_type": "code",
   "execution_count": null,
   "id": "8b3b0a59-b8d6-4288-9df1-2648b54d0a3d",
   "metadata": {},
   "outputs": [],
   "source": []
  },
  {
   "cell_type": "code",
   "execution_count": null,
   "id": "f386dde3-8172-4e2d-b59e-17386ae163cc",
   "metadata": {},
   "outputs": [],
   "source": []
  },
  {
   "cell_type": "code",
   "execution_count": null,
   "id": "5f3f4ffd-737a-40b5-ad6f-324ec9bd7edc",
   "metadata": {},
   "outputs": [],
   "source": []
  },
  {
   "cell_type": "code",
   "execution_count": null,
   "id": "46d5c6f5-94a7-4e1d-87e7-e9714b236a7b",
   "metadata": {},
   "outputs": [],
   "source": []
  },
  {
   "cell_type": "code",
   "execution_count": null,
   "id": "58875830-862a-41df-a0e9-6b199d7215ef",
   "metadata": {},
   "outputs": [],
   "source": []
  },
  {
   "cell_type": "code",
   "execution_count": null,
   "id": "3a05fa3f-37ec-4647-9cc9-398eee3dd26f",
   "metadata": {},
   "outputs": [],
   "source": []
  },
  {
   "cell_type": "code",
   "execution_count": null,
   "id": "57be90ba-e5dc-4f3b-9105-e299f3510ca1",
   "metadata": {},
   "outputs": [],
   "source": []
  }
 ],
 "metadata": {
  "kernelspec": {
   "display_name": "Python 3 (ipykernel)",
   "language": "python",
   "name": "python3"
  },
  "language_info": {
   "codemirror_mode": {
    "name": "ipython",
    "version": 3
   },
   "file_extension": ".py",
   "mimetype": "text/x-python",
   "name": "python",
   "nbconvert_exporter": "python",
   "pygments_lexer": "ipython3",
   "version": "3.10.13"
  }
 },
 "nbformat": 4,
 "nbformat_minor": 5
}
