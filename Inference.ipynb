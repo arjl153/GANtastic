{
 "cells": [
  {
   "cell_type": "code",
   "execution_count": 5,
   "id": "0b7a56bf",
   "metadata": {},
   "outputs": [],
   "source": [
    "import numpy as np\n",
    "import pandas as pd\n",
    "from random import random\n",
    "import os\n",
    "import librosa\n",
    "import soundfile as sf\n",
    "import IPython\n",
    "from scipy.linalg import svd\n",
    "from numpy import load, zeros, ones, asarray, vstack\n",
    "from numpy.random import randint\n",
    "import tensorflow as tf\n",
    "import keras\n",
    "from keras.optimizers import Adam\n",
    "from keras.initializers import RandomNormal\n",
    "from keras.models import Model, load_model\n",
    "import keras.layers as layers\n",
    "from keras.layers import Conv2D, Conv2DTranspose,BatchNormalization, LeakyReLU, Activation, Concatenate, Layer, InputSpec, Input, Conv1D, Conv1DTranspose\n",
    "from keras import initializers, regularizers, constraints, backend as K\n",
    "from matplotlib import pyplot\n",
    "from music21 import midi\n",
    "from midiutil import MIDIFile\n",
    "import fluidsynth\n",
    "from pydub import AudioSegment\n",
    "import IPython.display as ipd\n",
    "from pretty_midi import PrettyMIDI"
   ]
  },
  {
   "cell_type": "code",
   "execution_count": 2,
   "id": "0bd9cf14",
   "metadata": {},
   "outputs": [
    {
     "name": "stdout",
     "output_type": "stream",
     "text": [
      "WARNING:tensorflow:No training configuration found in the save file, so the model was *not* compiled. Compile it manually.\n"
     ]
    }
   ],
   "source": [
    "generator = load_model('trained/gatob_300_model.h5')"
   ]
  },
  {
   "cell_type": "code",
   "execution_count": 8,
   "id": "4ced9428",
   "metadata": {},
   "outputs": [
    {
     "name": "stdout",
     "output_type": "stream",
     "text": [
      "1/1 [==============================] - 0s 23ms/step\n"
     ]
    }
   ],
   "source": [
    "test_np = np.load(r'dataset/JC_C/test/classic_piano_test_777.npy')\n",
    "test_np = test_np.reshape(1,64,84,1)\n",
    "\n",
    "B_hat = generator.predict(test_np)\n",
    "B_hat = B_hat.reshape(64,84,1)\n",
    "\n",
    "def piano_roll_to_midi(piano_roll, tempo=120, output_file='output.mid'):\n",
    "    num_notes, num_steps = len(piano_roll[0]), len(piano_roll)\n",
    "    midi = MIDIFile(1)\n",
    "    midi.addTempo(0, 0, tempo)\n",
    "    midi.addProgramChange(0, 0, 0, 0)\n",
    "    for time in range(num_steps):\n",
    "        for pitch in range(num_notes):\n",
    "            if piano_roll[time][pitch] >= 0.125:\n",
    "                midi.addNote(0, 0, pitch + 21, time, 1, 100)  # channel=0, duration=1, volume=100\n",
    "\n",
    "    with open(output_file, 'wb') as midi_file:\n",
    "        midi.writeFile(midi_file)\n",
    "        \n",
    "piano_roll_to_midi(test_np.reshape((64,84,1)), tempo=120, output_file='test_org.mid')\n",
    "piano_roll_to_midi(B_hat, tempo=120, output_file='test_gen.mid')\n",
    "\n"
   ]
  },
  {
   "cell_type": "code",
   "execution_count": 9,
   "id": "35ef929e",
   "metadata": {},
   "outputs": [
    {
     "name": "stdout",
     "output_type": "stream",
     "text": [
      "Original Classic \n"
     ]
    },
    {
     "data": {
      "text/html": [
       "\n",
       "                <div id=\"midiPlayerDiv3144\"></div>\n",
       "                <link rel=\"stylesheet\" href=\"https://cuthbertLab.github.io/music21j/css/m21.css\">\n",
       "                \n",
       "                <script>\n",
       "                require.config({\n",
       "                    paths: {\n",
       "                        'music21': 'https://cuthbertLab.github.io/music21j/releases/music21.debug',\n",
       "                    }\n",
       "                });\n",
       "                require(['music21'], function(music21) {\n",
       "                    mp = new music21.miditools.MidiPlayer();\n",
       "                    mp.addPlayer(\"#midiPlayerDiv3144\");\n",
       "                    mp.base64Load(\"data:audio/midi;base64,TVRoZAAAAAYAAQACBABNVHJrAAAAFAD/UQMHoSAA/1gEBAIYCIgA/y8ATVRyawAAA7kA/wMFUGlhbm8AwAAA4ABAAMAAiACQS2QAkExkiACASwAAgEwAAJBMZACQT2SIAIBMAACATwAAkE1kAJBPZIgAgE0AAIBPAACQTGQAkE1kiACATAAAgE0AAJBLZACQTGSIAIBLAACATAAAkEpkAJBLZIgAgEoAAIBLAACQSmSIAIBKAACQR2QAkEpkiACARwAAgEoAiACQRGSIAIBEAACQRGSIAIBEAACQQWSIAIBBAACQQWQAkERkiACAQQAAgEQAAJBEZIgAgEQAAJBAZACQRGSIAIBAAACARAAAkEBkiACAQAAAkEBkAJBEZIgAgEAAAIBEAACQRGSIAIBEAACQRGSIAIBEAACQP2QAkERkiACAPwAAgEQAAJA/ZIgAgD8AAJA/ZACQRGSIAIA/AACARAAAkERkiACARAAAkERkiACARAAAkD5kAJBEZIgAgD4AAIBEAACQPmSIAIA+AACQPmSIAIA+AACQPmSIAIA+AACQPmQAkERkiACAPgAAgEQAAJBEZIgAgEQAAJBEZIgAgEQAAJBEZIgAgEQAAJA9ZIgAgD0AAJA9ZIgAgD0AAJA9ZIgAgD0AAJAvZACQPWSIAIAvAACAPQAAkC9kAJA1ZACQPWSIAIAvAACANQAAgD0AAJAvZACQNWSIAIAvAACANQAAkDVkAJA9ZACQRGSIAIA1AACAPQAAgEQAAJA9ZACQRGSIAIA9AACARAAAkEFkAJBEZIgAgEEAAIBEAACQQWQAkERkiACAQQAAgEQAAJBBZACQRGQAkElkiACAQQAAgEQAAIBJAACQRGQAkElkiACARAAAgEkAAJBCZACQRGQAkFBkiACAQgAAgEQAAIBQAACQQmQAkERkiACAQgAAgEQAAJBBZACQQmQAkERkAJBJZIgAgEEAAIBCAACARAAAgEkAAJBBZIgAgEEAAJBBZIgAgEEAAJA+ZACQQWSIAIA+AACAQQAAkD5kAJBBZIgAgD4AAIBBAACQNWQAkD5kiACANQAAgD4AAJA1ZACQPmSIAIA1AACAPgAAkC9kAJA1ZACQPmSIAIAvAACANQAAgD4AAJAvZIgAgC8AAJA9ZIgAgD0AAJA9ZIgAgD0AAJAtZACQPWSIAIAtAACAPQAAkC1kAJA9ZIgAgC0AAIA9AACQNmSIAIA2AACQNmQAkD1kAJBFZIgAgDYAAIA9AACARQAAkD1kAJBFZIgAgD0AAIBFAACQQmQAkEVkiACAQgAAgEUAAJBCZACQRWSIAIBCAACARQCIAP8vAA==\");\n",
       "                });\n",
       "                </script>"
      ],
      "text/plain": [
       "<IPython.core.display.HTML object>"
      ]
     },
     "metadata": {},
     "output_type": "display_data"
    }
   ],
   "source": [
    "mf = midi.MidiFile()\n",
    "mf.open('test_org.mid') \n",
    "mf.read()\n",
    "mf.close()\n",
    "s = midi.translate.midiFileToStream(mf)\n",
    "print(\"Original Classic\")\n",
    "s.show('midi')"
   ]
  },
  {
   "cell_type": "code",
   "execution_count": 10,
   "id": "30546169",
   "metadata": {},
   "outputs": [
    {
     "name": "stdout",
     "output_type": "stream",
     "text": [
      " Classic to Jazz\n"
     ]
    },
    {
     "data": {
      "text/html": [
       "\n",
       "                <div id=\"midiPlayerDiv4202\"></div>\n",
       "                <link rel=\"stylesheet\" href=\"https://cuthbertLab.github.io/music21j/css/m21.css\">\n",
       "                \n",
       "                <script>\n",
       "                require.config({\n",
       "                    paths: {\n",
       "                        'music21': 'https://cuthbertLab.github.io/music21j/releases/music21.debug',\n",
       "                    }\n",
       "                });\n",
       "                require(['music21'], function(music21) {\n",
       "                    mp = new music21.miditools.MidiPlayer();\n",
       "                    mp.addPlayer(\"#midiPlayerDiv4202\");\n",
       "                    mp.base64Load(\"data:audio/midi;base64,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\");\n",
       "                });\n",
       "                </script>"
      ],
      "text/plain": [
       "<IPython.core.display.HTML object>"
      ]
     },
     "metadata": {},
     "output_type": "display_data"
    }
   ],
   "source": [
    "mf = midi.MidiFile()\n",
    "mf.open('test_gen.mid') \n",
    "mf.read()\n",
    "mf.close()\n",
    "s = midi.translate.midiFileToStream(mf)\n",
    "print(\" Classic to Jazz\")\n",
    "s.show('midi')"
   ]
  },
  {
   "cell_type": "code",
   "execution_count": null,
   "id": "d59ada27",
   "metadata": {},
   "outputs": [],
   "source": []
  }
 ],
 "metadata": {
  "kernelspec": {
   "display_name": "Python 3 (ipykernel)",
   "language": "python",
   "name": "python3"
  },
  "language_info": {
   "codemirror_mode": {
    "name": "ipython",
    "version": 3
   },
   "file_extension": ".py",
   "mimetype": "text/x-python",
   "name": "python",
   "nbconvert_exporter": "python",
   "pygments_lexer": "ipython3",
   "version": "3.9.13"
  }
 },
 "nbformat": 4,
 "nbformat_minor": 5
}
